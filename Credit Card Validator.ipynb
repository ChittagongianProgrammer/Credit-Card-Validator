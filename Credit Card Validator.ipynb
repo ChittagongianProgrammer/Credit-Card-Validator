{
 "cells": [
  {
   "cell_type": "markdown",
   "metadata": {},
   "source": [
    "Python Credit Card Validator"
   ]
  },
  {
   "cell_type": "code",
   "execution_count": null,
   "metadata": {},
   "outputs": [],
   "source": [
    "odd_digit_sum = 0\n",
    "even_digit_sum = 0\n",
    "total = 0\n",
    "\n",
    "card_number = input(\"Enter your credit card number: \")\n",
    "card_number = card_number.replace(\"-\", \"\")\n",
    "card_number = card_number.replace(\" \", \"\")\n",
    "card_number = card_number[::-1]\n",
    "print(card_number)\n",
    "\n",
    "for x in card_number[::2]:\n",
    "    odd_digit_sum += int(x)\n",
    "\n",
    "for x in card_number[1::2]:\n",
    "    x = int(x) * 2\n",
    "    for x in str(x):\n",
    "        even_digit_sum = even_digit_sum + int(x)\n",
    "\n",
    "total = odd_digit_sum + even_digit_sum\n",
    "\n",
    "if total % 10 == 0:\n",
    "    print(\"This is a valid credit card number.\")\n",
    "else:\n",
    "    print(\"This is an invalid number.\")"
   ]
  }
 ],
 "metadata": {
  "kernelspec": {
   "display_name": "Python 3",
   "language": "python",
   "name": "python3"
  },
  "language_info": {
   "codemirror_mode": {
    "name": "ipython",
    "version": 3
   },
   "file_extension": ".py",
   "mimetype": "text/x-python",
   "name": "python",
   "nbconvert_exporter": "python",
   "pygments_lexer": "ipython3",
   "version": "3.11.7"
  }
 },
 "nbformat": 4,
 "nbformat_minor": 2
}
